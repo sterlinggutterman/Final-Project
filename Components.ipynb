{
 "cells": [
  {
   "cell_type": "code",
   "execution_count": 3,
   "id": "926f72ec-cd11-4670-aa50-e8811dcc89b4",
   "metadata": {
    "tags": []
   },
   "outputs": [
    {
     "name": "stdout",
     "output_type": "stream",
     "text": [
      "Cloning into 'Final-Project'...\n",
      "warning: redirecting to https://github.com/sterlinggutterman/Final-Project.git/\n",
      "remote: Enumerating objects: 53, done.\u001b[K\n",
      "remote: Counting objects: 100% (53/53), done.\u001b[K\n",
      "remote: Compressing objects: 100% (52/52), done.\u001b[K\n",
      "remote: Total 53 (delta 16), reused 0 (delta 0), pack-reused 0 (from 0)\u001b[K\n",
      "Receiving objects: 100% (53/53), 37.34 MiB | 10.39 MiB/s, done.\n",
      "Resolving deltas: 100% (16/16), done.\n"
     ]
    }
   ],
   "source": [
    "! git clone https://www.github.com/sterlinggutterman/Final-Project"
   ]
  },
  {
   "cell_type": "code",
   "execution_count": 1,
   "id": "73d7af67-ed0c-4946-afa1-a22c685e6b22",
   "metadata": {
    "tags": []
   },
   "outputs": [],
   "source": [
    "import pandas as pd\n",
    "import numpy as np\n",
    "import matplotlib.pyplot as plt\n",
    "import seaborn as sns\n",
    "from sklearn.model_selection import train_test_split"
   ]
  },
  {
   "cell_type": "code",
   "execution_count": 4,
   "id": "5a433945-4670-41e4-9c51-a4d0f8dad94c",
   "metadata": {
    "tags": []
   },
   "outputs": [
    {
     "data": {
      "text/html": [
       "<div>\n",
       "<style scoped>\n",
       "    .dataframe tbody tr th:only-of-type {\n",
       "        vertical-align: middle;\n",
       "    }\n",
       "\n",
       "    .dataframe tbody tr th {\n",
       "        vertical-align: top;\n",
       "    }\n",
       "\n",
       "    .dataframe thead th {\n",
       "        text-align: right;\n",
       "    }\n",
       "</style>\n",
       "<table border=\"1\" class=\"dataframe\">\n",
       "  <thead>\n",
       "    <tr style=\"text-align: right;\">\n",
       "      <th></th>\n",
       "      <th>order_id</th>\n",
       "      <th>user_id</th>\n",
       "      <th>eval_set</th>\n",
       "      <th>order_number</th>\n",
       "      <th>order_dow</th>\n",
       "      <th>order_hour_of_day</th>\n",
       "      <th>days_since_prior_order</th>\n",
       "      <th>product_id</th>\n",
       "      <th>add_to_cart_order</th>\n",
       "      <th>reordered</th>\n",
       "      <th>reordered_yes/no</th>\n",
       "      <th>order_day</th>\n",
       "      <th>total_order_count</th>\n",
       "      <th>product_name</th>\n",
       "      <th>aisle_id</th>\n",
       "      <th>department_id</th>\n",
       "      <th>aisle</th>\n",
       "      <th>department</th>\n",
       "    </tr>\n",
       "  </thead>\n",
       "  <tbody>\n",
       "    <tr>\n",
       "      <th>0</th>\n",
       "      <td>361493</td>\n",
       "      <td>27</td>\n",
       "      <td>prior</td>\n",
       "      <td>1</td>\n",
       "      <td>3</td>\n",
       "      <td>9</td>\n",
       "      <td>NaN</td>\n",
       "      <td>25718</td>\n",
       "      <td>1</td>\n",
       "      <td>0</td>\n",
       "      <td>no</td>\n",
       "      <td>tuesday</td>\n",
       "      <td>81</td>\n",
       "      <td>Cold Brew Coffee</td>\n",
       "      <td>26</td>\n",
       "      <td>7</td>\n",
       "      <td>coffee</td>\n",
       "      <td>beverages</td>\n",
       "    </tr>\n",
       "    <tr>\n",
       "      <th>1</th>\n",
       "      <td>1662354</td>\n",
       "      <td>27</td>\n",
       "      <td>prior</td>\n",
       "      <td>2</td>\n",
       "      <td>2</td>\n",
       "      <td>17</td>\n",
       "      <td>6.0</td>\n",
       "      <td>30776</td>\n",
       "      <td>1</td>\n",
       "      <td>0</td>\n",
       "      <td>no</td>\n",
       "      <td>monday</td>\n",
       "      <td>81</td>\n",
       "      <td>Organic Raw Kombucha Gingerade</td>\n",
       "      <td>31</td>\n",
       "      <td>7</td>\n",
       "      <td>refrigerated</td>\n",
       "      <td>beverages</td>\n",
       "    </tr>\n",
       "    <tr>\n",
       "      <th>2</th>\n",
       "      <td>1662354</td>\n",
       "      <td>27</td>\n",
       "      <td>prior</td>\n",
       "      <td>2</td>\n",
       "      <td>2</td>\n",
       "      <td>17</td>\n",
       "      <td>6.0</td>\n",
       "      <td>9604</td>\n",
       "      <td>2</td>\n",
       "      <td>0</td>\n",
       "      <td>no</td>\n",
       "      <td>monday</td>\n",
       "      <td>81</td>\n",
       "      <td>Hibiscus Organic Raw Kombucha</td>\n",
       "      <td>31</td>\n",
       "      <td>7</td>\n",
       "      <td>refrigerated</td>\n",
       "      <td>beverages</td>\n",
       "    </tr>\n",
       "    <tr>\n",
       "      <th>3</th>\n",
       "      <td>1662354</td>\n",
       "      <td>27</td>\n",
       "      <td>prior</td>\n",
       "      <td>2</td>\n",
       "      <td>2</td>\n",
       "      <td>17</td>\n",
       "      <td>6.0</td>\n",
       "      <td>6287</td>\n",
       "      <td>3</td>\n",
       "      <td>0</td>\n",
       "      <td>no</td>\n",
       "      <td>monday</td>\n",
       "      <td>81</td>\n",
       "      <td>Organic &amp; Raw Strawberry Serenity Kombucha</td>\n",
       "      <td>31</td>\n",
       "      <td>7</td>\n",
       "      <td>refrigerated</td>\n",
       "      <td>beverages</td>\n",
       "    </tr>\n",
       "    <tr>\n",
       "      <th>4</th>\n",
       "      <td>1662354</td>\n",
       "      <td>27</td>\n",
       "      <td>prior</td>\n",
       "      <td>2</td>\n",
       "      <td>2</td>\n",
       "      <td>17</td>\n",
       "      <td>6.0</td>\n",
       "      <td>20947</td>\n",
       "      <td>4</td>\n",
       "      <td>0</td>\n",
       "      <td>no</td>\n",
       "      <td>monday</td>\n",
       "      <td>81</td>\n",
       "      <td>Passionberry Bliss Kombucha Drink</td>\n",
       "      <td>31</td>\n",
       "      <td>7</td>\n",
       "      <td>refrigerated</td>\n",
       "      <td>beverages</td>\n",
       "    </tr>\n",
       "  </tbody>\n",
       "</table>\n",
       "</div>"
      ],
      "text/plain": [
       "   order_id  user_id eval_set  order_number  order_dow  order_hour_of_day  \\\n",
       "0    361493       27    prior             1          3                  9   \n",
       "1   1662354       27    prior             2          2                 17   \n",
       "2   1662354       27    prior             2          2                 17   \n",
       "3   1662354       27    prior             2          2                 17   \n",
       "4   1662354       27    prior             2          2                 17   \n",
       "\n",
       "   days_since_prior_order  product_id  add_to_cart_order  reordered  \\\n",
       "0                     NaN       25718                  1          0   \n",
       "1                     6.0       30776                  1          0   \n",
       "2                     6.0        9604                  2          0   \n",
       "3                     6.0        6287                  3          0   \n",
       "4                     6.0       20947                  4          0   \n",
       "\n",
       "  reordered_yes/no order_day  total_order_count  \\\n",
       "0               no   tuesday                 81   \n",
       "1               no    monday                 81   \n",
       "2               no    monday                 81   \n",
       "3               no    monday                 81   \n",
       "4               no    monday                 81   \n",
       "\n",
       "                                 product_name  aisle_id  department_id  \\\n",
       "0                            Cold Brew Coffee        26              7   \n",
       "1              Organic Raw Kombucha Gingerade        31              7   \n",
       "2               Hibiscus Organic Raw Kombucha        31              7   \n",
       "3  Organic & Raw Strawberry Serenity Kombucha        31              7   \n",
       "4           Passionberry Bliss Kombucha Drink        31              7   \n",
       "\n",
       "          aisle department  \n",
       "0        coffee  beverages  \n",
       "1  refrigerated  beverages  \n",
       "2  refrigerated  beverages  \n",
       "3  refrigerated  beverages  \n",
       "4  refrigerated  beverages  "
      ]
     },
     "execution_count": 4,
     "metadata": {},
     "output_type": "execute_result"
    }
   ],
   "source": [
    "df = pd.read_parquet('Final-Project/full_df (2).parquet')\n",
    "df.head()"
   ]
  },
  {
   "cell_type": "code",
   "execution_count": 5,
   "id": "c453340f-09c1-437a-b653-0beee57afc2e",
   "metadata": {
    "tags": []
   },
   "outputs": [],
   "source": [
    "df=df.drop(columns=[\"eval_set\"])"
   ]
  },
  {
   "cell_type": "code",
   "execution_count": 6,
   "id": "1c260c6b-8b23-47a4-baa8-4c68fd70c7ff",
   "metadata": {
    "tags": []
   },
   "outputs": [],
   "source": [
    "import pickle\n",
    "from collections import Counter\n",
    "from sklearn.decomposition import PCA\n",
    "from sklearn.linear_model import LinearRegression\n",
    "from sklearn.model_selection import train_test_split\n",
    "from sklearn.metrics import r2_score"
   ]
  },
  {
   "cell_type": "code",
   "execution_count": 7,
   "id": "9370f6d2-0e67-40f4-948c-a379905cf9b0",
   "metadata": {
    "tags": []
   },
   "outputs": [],
   "source": [
    "for each in df.columns:\n",
    "    df[each]=df[each].fillna(0)"
   ]
  },
  {
   "cell_type": "code",
   "execution_count": 8,
   "id": "81a3c8dc-b2cd-4772-8c6d-d25024be1a55",
   "metadata": {
    "tags": []
   },
   "outputs": [],
   "source": [
    "from sklearn import linear_model\n",
    "\n",
    "# Target variable:\n",
    "y = df['reordered']\n",
    "\n",
    "# Numeric:\n",
    "var_num = ['order_id', 'user_id', 'order_number', 'days_since_prior_order',\n",
    "       'order_hour_of_day', 'order_dow', 'add_to_cart_order',\n",
    "        'total_order_count']\n",
    "X_num = df.loc[:,var_num]\n",
    "\n",
    "# Dummies:\n",
    "var_cat = ['reordered_yes/no', 'order_day','department']\n",
    "dummies = pd.DataFrame([])\n",
    "for var in var_cat:\n",
    "    new_dummies = pd.get_dummies( df.loc[:,var], dtype=int)\n",
    "    dummies = pd.concat([dummies, new_dummies], axis=1)\n",
    "\n",
    "# Create covariates:\n",
    "X = pd.concat([X_num, dummies],axis=1)\n",
    "\n",
    "# Scale data:\n",
    "from sklearn.preprocessing import StandardScaler\n",
    "scaler = StandardScaler()\n",
    "scaler.fit(X)\n",
    "X_sc = scaler.transform(X)"
   ]
  },
  {
   "cell_type": "code",
   "execution_count": 9,
   "id": "66e90b26-37cf-49e6-bbd1-c27af515f6a5",
   "metadata": {
    "tags": []
   },
   "outputs": [],
   "source": [
    "def demean(x):\n",
    "    xbar = np.mean(x)\n",
    "    z = x-xbar\n",
    "    return(z)\n",
    "Z=X.apply(demean)\n",
    "X_mean=X.mean().to_numpy() "
   ]
  },
  {
   "cell_type": "code",
   "execution_count": 10,
   "id": "53733a7f-ee94-454b-9939-551414ea8bf0",
   "metadata": {
    "tags": []
   },
   "outputs": [],
   "source": [
    "C = Z.cov()\n",
    "eigenvalues, eigenvectors = np.linalg.eig(C)\n",
    "eig_val = eigenvalues[ np.argsort(-eigenvalues) ]\n",
    "eig_vect = eigenvectors[ :, np.argsort(-eigenvalues) ]\n",
    "x_means = X_mean[ np.argsort(-eigenvalues) ] \n",
    "eig_val = eig_val/np.sum(eig_val)\n",
    "eig_vect = eig_vect"
   ]
  },
  {
   "cell_type": "code",
   "execution_count": 11,
   "id": "d7cbc36c-4fd1-4b4e-8110-65a2d92d6196",
   "metadata": {
    "tags": []
   },
   "outputs": [
    {
     "data": {
      "image/png": "[encoded data removed]",
      "text/plain": [
       "<Figure size 640x480 with 1 Axes>"
      ]
     },
     "metadata": {},
     "output_type": "display_data"
    }
   ],
   "source": [
    "import numpy as np\n",
    "x = np.linspace(1, Z.shape[1],Z.shape[1])\n",
    "y = eig_val\n",
    "plt.plot(x,y)\n",
    "plt.xlabel(\"Number of Components\")\n",
    "plt.ylabel(\"Variation Explained\")\n",
    "plt.title('Scree Plot')\n",
    "plt.show()"
   ]
  },
  {
   "cell_type": "code",
   "execution_count": 13,
   "id": "c62bdd4c-878f-44a7-9d69-cc0bfe57b177",
   "metadata": {
    "tags": []
   },
   "outputs": [
    {
     "data": {
      "image/png": "[encoded data removed]",
      "text/plain": [
       "<Figure size 640x480 with 1 Axes>"
      ]
     },
     "metadata": {},
     "output_type": "display_data"
    }
   ],
   "source": [
    "# R^2 plot:\n",
    "x = np.linspace(1, Z.shape[1],Z.shape[1])\n",
    "y = np.cumsum(eig_val)\n",
    "plt.plot(x,y)\n",
    "plt.xlabel(\"Number of Components\")\n",
    "plt.ylabel(\"Variation Explained\")\n",
    "plt.title('Cumulative R-squared')\n",
    "plt.show()"
   ]
  }
 ],
 "metadata": {
  "kernelspec": {
   "display_name": "Python 3 (ipykernel)",
   "language": "python",
   "name": "python3"
  },
  "language_info": {
   "codemirror_mode": {
    "name": "ipython",
    "version": 3
   },
   "file_extension": ".py",
   "mimetype": "text/x-python",
   "name": "python",
   "nbconvert_exporter": "python",
   "pygments_lexer": "ipython3",
   "version": "3.11.4"
  }
 },
 "nbformat": 4,
 "nbformat_minor": 5
}
