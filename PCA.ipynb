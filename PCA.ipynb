{
 "cells": [
  {
   "cell_type": "code",
   "execution_count": 1,
   "id": "adf343e0-295e-4b3e-8242-566d2457f74e",
   "metadata": {
    "tags": []
   },
   "outputs": [
    {
     "name": "stdout",
     "output_type": "stream",
     "text": [
      "Cloning into 'Final-Project'...\n",
      "warning: redirecting to https://github.com/sterlinggutterman/Final-Project.git/\n",
      "remote: Enumerating objects: 47, done.\u001b[K\n",
      "remote: Counting objects: 100% (47/47), done.\u001b[K\n",
      "remote: Compressing objects: 100% (46/46), done.\u001b[K\n",
      "remote: Total 47 (delta 13), reused 0 (delta 0), pack-reused 0 (from 0)\u001b[K\n",
      "Receiving objects: 100% (47/47), 37.15 MiB | 10.55 MiB/s, done.\n",
      "Resolving deltas: 100% (13/13), done.\n"
     ]
    }
   ],
   "source": [
    "! git clone https://www.github.com/sterlinggutterman/Final-Project"
   ]
  },
  {
   "cell_type": "code",
   "execution_count": 1,
   "id": "5951e734-aa1e-4ea9-874c-991e640c6460",
   "metadata": {
    "tags": []
   },
   "outputs": [],
   "source": [
    "import pandas as pd\n",
    "import numpy as np\n",
    "import matplotlib.pyplot as plt\n",
    "import seaborn as sns\n",
    "from sklearn.model_selection import train_test_split"
   ]
  },
  {
   "cell_type": "code",
   "execution_count": 2,
   "id": "d005fa9a-cb7a-4df3-99ec-bc1021398951",
   "metadata": {
    "tags": []
   },
   "outputs": [
    {
     "data": {
      "text/html": [
       "<div>\n",
       "<style scoped>\n",
       "    .dataframe tbody tr th:only-of-type {\n",
       "        vertical-align: middle;\n",
       "    }\n",
       "\n",
       "    .dataframe tbody tr th {\n",
       "        vertical-align: top;\n",
       "    }\n",
       "\n",
       "    .dataframe thead th {\n",
       "        text-align: right;\n",
       "    }\n",
       "</style>\n",
       "<table border=\"1\" class=\"dataframe\">\n",
       "  <thead>\n",
       "    <tr style=\"text-align: right;\">\n",
       "      <th></th>\n",
       "      <th>order_id</th>\n",
       "      <th>user_id</th>\n",
       "      <th>eval_set</th>\n",
       "      <th>order_number</th>\n",
       "      <th>order_dow</th>\n",
       "      <th>order_hour_of_day</th>\n",
       "      <th>days_since_prior_order</th>\n",
       "      <th>product_id</th>\n",
       "      <th>add_to_cart_order</th>\n",
       "      <th>reordered</th>\n",
       "      <th>reordered_yes/no</th>\n",
       "      <th>order_day</th>\n",
       "      <th>total_order_count</th>\n",
       "      <th>product_name</th>\n",
       "      <th>aisle_id</th>\n",
       "      <th>department_id</th>\n",
       "      <th>aisle</th>\n",
       "      <th>department</th>\n",
       "    </tr>\n",
       "  </thead>\n",
       "  <tbody>\n",
       "    <tr>\n",
       "      <th>0</th>\n",
       "      <td>361493</td>\n",
       "      <td>27</td>\n",
       "      <td>prior</td>\n",
       "      <td>1</td>\n",
       "      <td>3</td>\n",
       "      <td>9</td>\n",
       "      <td>NaN</td>\n",
       "      <td>25718</td>\n",
       "      <td>1</td>\n",
       "      <td>0</td>\n",
       "      <td>no</td>\n",
       "      <td>tuesday</td>\n",
       "      <td>81</td>\n",
       "      <td>Cold Brew Coffee</td>\n",
       "      <td>26</td>\n",
       "      <td>7</td>\n",
       "      <td>coffee</td>\n",
       "      <td>beverages</td>\n",
       "    </tr>\n",
       "    <tr>\n",
       "      <th>1</th>\n",
       "      <td>1662354</td>\n",
       "      <td>27</td>\n",
       "      <td>prior</td>\n",
       "      <td>2</td>\n",
       "      <td>2</td>\n",
       "      <td>17</td>\n",
       "      <td>6.0</td>\n",
       "      <td>30776</td>\n",
       "      <td>1</td>\n",
       "      <td>0</td>\n",
       "      <td>no</td>\n",
       "      <td>monday</td>\n",
       "      <td>81</td>\n",
       "      <td>Organic Raw Kombucha Gingerade</td>\n",
       "      <td>31</td>\n",
       "      <td>7</td>\n",
       "      <td>refrigerated</td>\n",
       "      <td>beverages</td>\n",
       "    </tr>\n",
       "    <tr>\n",
       "      <th>2</th>\n",
       "      <td>1662354</td>\n",
       "      <td>27</td>\n",
       "      <td>prior</td>\n",
       "      <td>2</td>\n",
       "      <td>2</td>\n",
       "      <td>17</td>\n",
       "      <td>6.0</td>\n",
       "      <td>9604</td>\n",
       "      <td>2</td>\n",
       "      <td>0</td>\n",
       "      <td>no</td>\n",
       "      <td>monday</td>\n",
       "      <td>81</td>\n",
       "      <td>Hibiscus Organic Raw Kombucha</td>\n",
       "      <td>31</td>\n",
       "      <td>7</td>\n",
       "      <td>refrigerated</td>\n",
       "      <td>beverages</td>\n",
       "    </tr>\n",
       "    <tr>\n",
       "      <th>3</th>\n",
       "      <td>1662354</td>\n",
       "      <td>27</td>\n",
       "      <td>prior</td>\n",
       "      <td>2</td>\n",
       "      <td>2</td>\n",
       "      <td>17</td>\n",
       "      <td>6.0</td>\n",
       "      <td>6287</td>\n",
       "      <td>3</td>\n",
       "      <td>0</td>\n",
       "      <td>no</td>\n",
       "      <td>monday</td>\n",
       "      <td>81</td>\n",
       "      <td>Organic &amp; Raw Strawberry Serenity Kombucha</td>\n",
       "      <td>31</td>\n",
       "      <td>7</td>\n",
       "      <td>refrigerated</td>\n",
       "      <td>beverages</td>\n",
       "    </tr>\n",
       "    <tr>\n",
       "      <th>4</th>\n",
       "      <td>1662354</td>\n",
       "      <td>27</td>\n",
       "      <td>prior</td>\n",
       "      <td>2</td>\n",
       "      <td>2</td>\n",
       "      <td>17</td>\n",
       "      <td>6.0</td>\n",
       "      <td>20947</td>\n",
       "      <td>4</td>\n",
       "      <td>0</td>\n",
       "      <td>no</td>\n",
       "      <td>monday</td>\n",
       "      <td>81</td>\n",
       "      <td>Passionberry Bliss Kombucha Drink</td>\n",
       "      <td>31</td>\n",
       "      <td>7</td>\n",
       "      <td>refrigerated</td>\n",
       "      <td>beverages</td>\n",
       "    </tr>\n",
       "  </tbody>\n",
       "</table>\n",
       "</div>"
      ],
      "text/plain": [
       "   order_id  user_id eval_set  order_number  order_dow  order_hour_of_day  \\\n",
       "0    361493       27    prior             1          3                  9   \n",
       "1   1662354       27    prior             2          2                 17   \n",
       "2   1662354       27    prior             2          2                 17   \n",
       "3   1662354       27    prior             2          2                 17   \n",
       "4   1662354       27    prior             2          2                 17   \n",
       "\n",
       "   days_since_prior_order  product_id  add_to_cart_order  reordered  \\\n",
       "0                     NaN       25718                  1          0   \n",
       "1                     6.0       30776                  1          0   \n",
       "2                     6.0        9604                  2          0   \n",
       "3                     6.0        6287                  3          0   \n",
       "4                     6.0       20947                  4          0   \n",
       "\n",
       "  reordered_yes/no order_day  total_order_count  \\\n",
       "0               no   tuesday                 81   \n",
       "1               no    monday                 81   \n",
       "2               no    monday                 81   \n",
       "3               no    monday                 81   \n",
       "4               no    monday                 81   \n",
       "\n",
       "                                 product_name  aisle_id  department_id  \\\n",
       "0                            Cold Brew Coffee        26              7   \n",
       "1              Organic Raw Kombucha Gingerade        31              7   \n",
       "2               Hibiscus Organic Raw Kombucha        31              7   \n",
       "3  Organic & Raw Strawberry Serenity Kombucha        31              7   \n",
       "4           Passionberry Bliss Kombucha Drink        31              7   \n",
       "\n",
       "          aisle department  \n",
       "0        coffee  beverages  \n",
       "1  refrigerated  beverages  \n",
       "2  refrigerated  beverages  \n",
       "3  refrigerated  beverages  \n",
       "4  refrigerated  beverages  "
      ]
     },
     "execution_count": 2,
     "metadata": {},
     "output_type": "execute_result"
    }
   ],
   "source": [
    "df = pd.read_parquet('Final-Project/full_df (2).parquet')\n",
    "df.head()"
   ]
  },
  {
   "cell_type": "code",
   "execution_count": 3,
   "id": "9103e0bc-5c0f-4e9f-83d0-8cd859039a6a",
   "metadata": {
    "tags": []
   },
   "outputs": [],
   "source": [
    "df=df.drop(columns=[\"eval_set\"])"
   ]
  },
  {
   "cell_type": "code",
   "execution_count": 4,
   "id": "994745c9-c6bc-469f-9dc4-dd8f635d0b64",
   "metadata": {
    "tags": []
   },
   "outputs": [],
   "source": [
    "import pickle\n",
    "from collections import Counter\n",
    "from sklearn.decomposition import PCA\n",
    "from sklearn.linear_model import LinearRegression\n",
    "from sklearn.model_selection import train_test_split\n",
    "from sklearn.metrics import r2_score"
   ]
  },
  {
   "cell_type": "code",
   "execution_count": 5,
   "id": "6ade7b9a-c5da-425b-ba22-7f0ad17baf75",
   "metadata": {
    "tags": []
   },
   "outputs": [],
   "source": [
    "for each in df.columns:\n",
    "    df[each]=df[each].fillna(0)"
   ]
  },
  {
   "cell_type": "code",
   "execution_count": 6,
   "id": "63a06357-f3db-492a-968b-c696dd8669b5",
   "metadata": {
    "tags": []
   },
   "outputs": [],
   "source": [
    "from sklearn import linear_model\n",
    "\n",
    "# Target variable:\n",
    "y = df['reordered']\n",
    "\n",
    "# Numeric:\n",
    "var_num = ['order_id', 'user_id', 'order_number', 'days_since_prior_order',\n",
    "       'order_hour_of_day', 'order_dow', 'add_to_cart_order',\n",
    "        'total_order_count']\n",
    "X_num = df.loc[:,var_num]\n",
    "\n",
    "# Dummies:\n",
    "var_cat = ['reordered_yes/no', 'order_day','department']\n",
    "dummies = pd.DataFrame([])\n",
    "for var in var_cat:\n",
    "    new_dummies = pd.get_dummies( df.loc[:,var], dtype=int)\n",
    "    dummies = pd.concat([dummies, new_dummies], axis=1)\n",
    "\n",
    "# Create covariates:\n",
    "X = pd.concat([X_num, dummies],axis=1)\n",
    "\n",
    "# Scale data:\n",
    "from sklearn.preprocessing import StandardScaler\n",
    "scaler = StandardScaler()\n",
    "scaler.fit(X)\n",
    "X_sc = scaler.transform(X)"
   ]
  },
  {
   "cell_type": "code",
   "execution_count": 7,
   "id": "04cd9c26-3ac9-4573-9f40-c98fafad69c1",
   "metadata": {
    "tags": []
   },
   "outputs": [],
   "source": [
    "y = df['reordered']\n",
    "\n",
    "X_train, X_test, y_train, y_test = train_test_split(X_sc, y, test_size=0.2, random_state=125)"
   ]
  },
  {
   "cell_type": "code",
   "execution_count": 8,
   "id": "63810a0b-8c2f-4996-9099-ed6e9b2a7c9e",
   "metadata": {
    "tags": []
   },
   "outputs": [
    {
     "name": "stdout",
     "output_type": "stream",
     "text": [
      "train:  -5.715509454958354\n",
      "test:  -5.701977876630572\n"
     ]
    }
   ],
   "source": [
    "#df['days_since_prior_order']=df['days_since_prior_order'].fillna(0)\n",
    "#df['add_to_cart_order'] = df['add_to_cart_order'].fillna(0)\n",
    "\n",
    "lm_0 = LinearRegression(fit_intercept=False).fit(X_train,y_train)\n",
    "y_hat_test_0 = lm_0.predict(X_test)\n",
    "y_hat_train_0 = lm_0.predict(X_train)\n",
    "print('train: ', r2_score(y_hat_train_0,y_train) )\n",
    "print('test: ', r2_score(y_hat_test_0,y_test) )"
   ]
  },
  {
   "cell_type": "code",
   "execution_count": 9,
   "id": "bfec5df7-ee86-48bf-8d29-58e1d1b8204f",
   "metadata": {
    "tags": []
   },
   "outputs": [
    {
     "name": "stdout",
     "output_type": "stream",
     "text": [
      "Train r2:  0.9220962738923407\n",
      "Test r2:  0.9221610011712198\n"
     ]
    }
   ],
   "source": [
    "reduction = PCA(n_components = 2).fit(X_train)\n",
    "Z_train=reduction.transform(X_train)\n",
    "Z_test=reduction.transform(X_test)\n",
    "\n",
    "\n",
    "lm_k = LinearRegression().fit(Z_train,y_train)\n",
    "y_hat_test = lm_k.predict(Z_test)\n",
    "y_hat_train = lm_k.predict(Z_train)\n",
    "\n",
    "print('Train r2: ', r2_score(y_hat_train,y_train) )\n",
    "print('Test r2: ', r2_score(y_hat_test,y_test) )    "
   ]
  },
  {
   "cell_type": "code",
   "execution_count": null,
   "id": "ac6acbb4-b9f3-42b4-add9-35eab8681f9e",
   "metadata": {},
   "outputs": [],
   "source": [
    "sns.scatterplot"
   ]
  }
 ],
 "metadata": {
  "kernelspec": {
   "display_name": "Python 3 (ipykernel)",
   "language": "python",
   "name": "python3"
  },
  "language_info": {
   "codemirror_mode": {
    "name": "ipython",
    "version": 3
   },
   "file_extension": ".py",
   "mimetype": "text/x-python",
   "name": "python",
   "nbconvert_exporter": "python",
   "pygments_lexer": "ipython3",
   "version": "3.11.4"
  }
 },
 "nbformat": 4,
 "nbformat_minor": 5
}
